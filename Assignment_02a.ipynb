{
  "nbformat": 4,
  "nbformat_minor": 0,
  "metadata": {
    "colab": {
      "provenance": [],
      "authorship_tag": "ABX9TyMTlJiqqLmYJCfcQ0TxMDEg",
      "include_colab_link": true
    },
    "kernelspec": {
      "name": "python3",
      "display_name": "Python 3"
    },
    "language_info": {
      "name": "python"
    }
  },
  "cells": [
    {
      "cell_type": "markdown",
      "metadata": {
        "id": "view-in-github",
        "colab_type": "text"
      },
      "source": [
        "<a href=\"https://colab.research.google.com/github/kingrapture/kingrapture/blob/main/Assignment_02a.ipynb\" target=\"_parent\"><img src=\"https://colab.research.google.com/assets/colab-badge.svg\" alt=\"Open In Colab\"/></a>"
      ]
    },
    {
      "cell_type": "markdown",
      "source": [
        "Task 1: Convert Weights to Pounds\n",
        "\n",
        "Create a Python list weight_kg with weight values\n",
        "Convert weight_kg to numpy array np_weight_kg\n",
        "Convert np_weight_kg to weight in Pounds np_weight_lbs\n",
        "Hint: Use the conversion factor of 2.2 pounds per kilogram"
      ],
      "metadata": {
        "id": "qcy3ZASpsdEk"
      }
    },
    {
      "cell_type": "code",
      "source": [
        "import numpy as np\n",
        "import pandas as pd\n",
        "# Task 1: Convert Weights to Pounds\n",
        "\n",
        "# Create a standard Python list containing several weight values in kilograms (kg).\n",
        "weight_kg = [72, 85, 68, 91, 78, 82, 65, 88, 76, 94]\n",
        "print(f\"Original Python list (weights in kg): {weight_kg}\")\n",
        "\n",
        "# Convert the Python list 'weight_kg' into a NumPy array called 'np_weight_kg'.\n",
        "# NumPy arrays are more efficient for numerical operations than standard Python lists.\n",
        "np_weight_kg = np.array(weight_kg)\n",
        "print(f\"NumPy array (weights in kg): {np_weight_kg}\")\n",
        "\n",
        "# Define the conversion factor from kilograms to pounds.\n",
        "kg_to_lbs_factor = 2.2\n",
        "\n",
        "# Convert the weights from kilograms to pounds.\n",
        "# We multiply the entire NumPy array 'np_weight_kg' by the conversion factor.\n",
        "# This is a key feature of NumPy called vectorization, where an operation is applied\n",
        "# to all elements of an array at once, which is highly efficient.\n",
        "np_weight_lbs = np_weight_kg * kg_to_lbs_factor\n",
        "\n",
        "# Print the resulting NumPy array containing weights in pounds (lbs).\n",
        "# The output will show each weight from the original array converted to pounds.\n",
        "print(f\"NumPy array (weights in lbs): {np_weight_lbs}\")"
      ],
      "metadata": {
        "colab": {
          "base_uri": "https://localhost:8080/"
        },
        "id": "79TKS0jio4bT",
        "outputId": "46ee888e-a1f3-4c52-ceb0-dff91db32b4a"
      },
      "execution_count": 2,
      "outputs": [
        {
          "output_type": "stream",
          "name": "stdout",
          "text": [
            "Original Python list (weights in kg): [72, 85, 68, 91, 78, 82, 65, 88, 76, 94]\n",
            "NumPy array (weights in kg): [72 85 68 91 78 82 65 88 76 94]\n",
            "NumPy array (weights in lbs): [158.4 187.  149.6 200.2 171.6 180.4 143.  193.6 167.2 206.8]\n"
          ]
        }
      ]
    },
    {
      "cell_type": "markdown",
      "source": [
        "Task 2: Calculate Mean and Median\n",
        "\n",
        "Write a NumPy program to calculate the mean and median of the weights in pounds. Print out the results."
      ],
      "metadata": {
        "id": "ZF3FcY3G1lX-"
      }
    },
    {
      "cell_type": "code",
      "source": [
        "# Calculate mean and median of weights in pounds\n",
        "mean_weight = np.mean(np_weight_lbs)\n",
        "median_weight = np.median(np_weight_lbs)\n",
        "\n",
        "print(f\"Mean weight: {mean_weight:.2f} lbs\")\n",
        "print(f\"Median weight: {median_weight:.2f} lbs\")"
      ],
      "metadata": {
        "colab": {
          "base_uri": "https://localhost:8080/"
        },
        "id": "rgMCo0CL4v27",
        "outputId": "fb7e664d-884e-454a-def2-65a2896b33f5"
      },
      "execution_count": 3,
      "outputs": [
        {
          "output_type": "stream",
          "name": "stdout",
          "text": [
            "Mean weight: 175.78 lbs\n",
            "Median weight: 176.00 lbs\n"
          ]
        }
      ]
    },
    {
      "cell_type": "code",
      "source": [
        "# Task 2: Calculate Mean and Median\n",
        "\n",
        "# Calculate the mean (average) of the weights in pounds using NumPy's mean() function.\n",
        "# This function sums all the elements in the array and divides by the number of elements.\n",
        "mean_weight_lbs = np.mean(np_weight_lbs)\n",
        "\n",
        "# Calculate the median of the weights in pounds using NumPy's median() function.\n",
        "# The median is the value separating the higher half from the lower half of a data sample.\n",
        "# It is often a better measure of central tendency than the mean for skewed data.\n",
        "median_weight_lbs = np.median(np_weight_lbs)\n",
        "\n",
        "# Print the calculated mean and median values with descriptive labels.\n",
        "# We use an f-string to format the output nicely, rounding the results to two decimal places.\n",
        "print(f\"Mean weight: {mean_weight_lbs:.2f} lbs\")\n",
        "print(f\"Median weight: {median_weight_lbs:.2f} lbs\")"
      ],
      "metadata": {
        "colab": {
          "base_uri": "https://localhost:8080/"
        },
        "id": "-QPcfBD1o4yb",
        "outputId": "dc9c07e9-3fc8-4a83-c25d-7fec69ce7f8b"
      },
      "execution_count": null,
      "outputs": [
        {
          "output_type": "stream",
          "name": "stdout",
          "text": [
            "Mean weight: 175.78 lbs\n",
            "Median weight: 176.00 lbs\n"
          ]
        }
      ]
    },
    {
      "cell_type": "markdown",
      "source": [
        "Task 3: Create 2D Array\n",
        "\n",
        "Create a NumPy array np_height_m containing the heights of individuals in meters.\n",
        "Combine this array with the weights in pounds np_weight_lbs to create a 2D array np_person_info where each row represents an individual's height and weight.\n",
        "Print the resulting 2D array."
      ],
      "metadata": {
        "id": "C_t_3RcTSBdt"
      }
    },
    {
      "cell_type": "code",
      "source": [
        "# Create heights in meters (corresponding to the weights)\n",
        "np_height_m = np.array([1.75, 1.80, 1.65, 1.90, 1.68, 1.85, 1.78, 1.72])\n",
        "\n",
        "# Combine heights and weights into a 2D array\n",
        "# Each row represents [height, weight] for one person\n",
        "np_person_info = np.column_stack((np_height_m, np_weight_lbs))\n",
        "\n",
        "print(\"Person info (height in m, weight in lbs)\")\n",
        "print(np_person_info)"
      ],
      "metadata": {
        "colab": {
          "base_uri": "https://localhost:8080/"
        },
        "id": "ZBtppF71SnAQ",
        "outputId": "47ff7524-7033-4cfe-876f-1c0e414d743d"
      },
      "execution_count": 14,
      "outputs": [
        {
          "output_type": "stream",
          "name": "stdout",
          "text": [
            "Person info (height in m, weight in lbs)\n",
            "[[  1.75 158.4 ]\n",
            " [  1.8  187.  ]\n",
            " [  1.65 149.6 ]\n",
            " [  1.9  200.2 ]\n",
            " [  1.68 171.6 ]\n",
            " [  1.85 180.4 ]\n",
            " [  1.78 143.  ]\n",
            " [  1.72 193.6 ]]\n"
          ]
        }
      ]
    },
    {
      "cell_type": "code",
      "source": [
        "# Task 3: Create 2D Array\n",
        "\n",
        "# Create a NumPy array 'np_height_m' containing the heights of individuals in meters.\n",
        "# The number of elements in this array must match the number of elements in the weight array\n",
        "# to ensure they can be paired up correctly.\n",
        "np_height_m = np.array([1.75, 1.80, 1.65, 1.90, 1.78, 1.83, 1.62, 1.88])\n",
        "\n",
        "# Combine the height and weight arrays into a single 2D NumPy array.\n",
        "# We use np.column_stack(), which takes a sequence of 1D arrays and stacks them as columns to make a single 2D array.\n",
        "# The resulting shape will be (8, 2), representing 8 individuals with 2 data points each (height and weight).\n",
        "np_person_info = np.column_stack((np_height_m, np_weight_lbs))\n",
        "\n",
        "# Print the resulting 2D array.\n",
        "# Each inner list represents a row, with the first element being height in meters\n",
        "# and the second element being weight in pounds.\n",
        "print(\"2D Array of Person Info (Height (m), Weight (lbs)):\")\n",
        "print(np_person_info)"
      ],
      "metadata": {
        "colab": {
          "base_uri": "https://localhost:8080/"
        },
        "id": "GN-x3dvXV82J",
        "outputId": "21cc6426-1f51-4d83-f8cb-00008bcc935d"
      },
      "execution_count": 16,
      "outputs": [
        {
          "output_type": "stream",
          "name": "stdout",
          "text": [
            "2D Array of Person Info (Height (m), Weight (lbs)):\n",
            "[[  1.75 158.4 ]\n",
            " [  1.8  187.  ]\n",
            " [  1.65 149.6 ]\n",
            " [  1.9  200.2 ]\n",
            " [  1.78 171.6 ]\n",
            " [  1.83 180.4 ]\n",
            " [  1.62 143.  ]\n",
            " [  1.88 193.6 ]]\n"
          ]
        }
      ]
    },
    {
      "cell_type": "markdown",
      "source": [
        "Task 4: Calculate BMI\n",
        "\n",
        "Write a function that takes the 2D array np_person_info created in Task 3 as input.\n",
        "Calculate the Body Mass Index (BMI) for each individual as bmi_array. BMI is calculated using the formula: BMI = weight (kg) / (height (m) ** 2).\n",
        "Print the BMI values for each individual."
      ],
      "metadata": {
        "id": "UReCTV-9VsnO"
      }
    },
    {
      "cell_type": "code",
      "source": [
        "import numpy as np\n",
        "\n",
        "# Heights (meters)\n",
        "np_height_m = np.array([1.75, 1.80, 1.65, 1.90, 1.78, 1.83, 1.62, 1.88, 1.77, 1.95])\n",
        "\n",
        "# Weights (kg → lbs, converted earlier in Task 1)\n",
        "weight_kg = [72, 85, 68, 91, 78, 82, 65, 88, 76, 94]\n",
        "np_weight_lbs = np.array(weight_kg) * 2.2\n",
        "\n",
        "# Combine into 2D array: [height, weight]\n",
        "np_person_info = np.column_stack((np_height_m, np_weight_lbs))\n",
        "\n",
        "def calculate_bmi(person_info):\n",
        "    heights = person_info[:, 0]  # first column: heights (meters)\n",
        "    weights_lbs = person_info[:, 1]  # second column: weights (lbs)\n",
        "    weights_kg = weights_lbs / 2.2  # convert lbs → kg\n",
        "    bmi_array = weights_kg / (heights ** 2)  # apply BMI formula\n",
        "    return bmi_array\n",
        "\n",
        "bmi_array = calculate_bmi(np_person_info)\n",
        "\n",
        "print(\"BMI values:\")\n",
        "for i, bmi in enumerate(bmi_array, 1):\n",
        "    print(f\"Person {i}: {bmi:.2f}\")\n"
      ],
      "metadata": {
        "colab": {
          "base_uri": "https://localhost:8080/"
        },
        "id": "K1KY3eihbeNr",
        "outputId": "9dc0c55f-0c33-430f-8706-7966da220c0c"
      },
      "execution_count": 18,
      "outputs": [
        {
          "output_type": "stream",
          "name": "stdout",
          "text": [
            "BMI values:\n",
            "Person 1: 23.51\n",
            "Person 2: 26.23\n",
            "Person 3: 24.98\n",
            "Person 4: 25.21\n",
            "Person 5: 24.62\n",
            "Person 6: 24.49\n",
            "Person 7: 24.77\n",
            "Person 8: 24.90\n",
            "Person 9: 24.26\n",
            "Person 10: 24.72\n"
          ]
        }
      ]
    },
    {
      "cell_type": "code",
      "source": [
        "# Task 4: Calculate BMI\n",
        "\n",
        "def calculate_bmi(person_info_array):\n",
        "    \"\"\"\n",
        "    Calculates the BMI for each individual in a 2D NumPy array.\n",
        "\n",
        "    Args:\n",
        "        person_info_array: A 2D NumPy array where column 0 is height in meters\n",
        "                           and column 1 is weight in pounds.\n",
        "\n",
        "    Returns:\n",
        "        A 1D NumPy array containing the calculated BMI for each individual.\n",
        "    \"\"\"\n",
        "    # Extract the height in meters (first column, index 0) from the input array.\n",
        "    heights_m = person_info_array[:, 0]\n",
        "\n",
        "    # Extract the weight in pounds (second column, index 1) from the input array.\n",
        "    weights_lbs = person_info_array[:, 1]\n",
        "\n",
        "    # Convert weights from pounds back to kilograms for the BMI formula.\n",
        "    # We divide by the same conversion factor used earlier.\n",
        "    weights_kg = weights_lbs / 2.2\n",
        "\n",
        "    # Calculate BMI using the formula: BMI = weight (kg) / (height (m) ** 2)\n",
        "    # The operation is vectorized, calculating all BMIs at once.\n",
        "    bmi_values = weights_kg / (heights_m ** 2)\n",
        "\n",
        "    return bmi_values\n",
        "\n",
        "# Call the function with our 'np_person_info' array to get the BMI for each person.\n",
        "bmi_array = calculate_bmi(np_person_info)\n",
        "\n",
        "# Print the resulting array of BMI values, rounded for readability.\n",
        "print(\"Calculated BMI for each individual:\")\n",
        "print(np.round(bmi_array, 2))"
      ],
      "metadata": {
        "colab": {
          "base_uri": "https://localhost:8080/"
        },
        "id": "htehkLZoo791",
        "outputId": "5d145782-964e-4051-e24c-7177d5bee41a"
      },
      "execution_count": null,
      "outputs": [
        {
          "output_type": "stream",
          "name": "stdout",
          "text": [
            "Calculated BMI for each individual:\n",
            "[23.51 26.23 24.98 25.21 24.62 24.49 24.77 24.9  24.26 24.72]\n"
          ]
        }
      ]
    },
    {
      "cell_type": "markdown",
      "source": [
        "Task 5: Filter Individuals by BMI\n",
        "\n",
        "Write a NumPy program to append bmi_array to np_person_info\n",
        "Filter individuals from the resulting array who have a BMI greater than 25.\n",
        "Print the filtered results."
      ],
      "metadata": {
        "id": "mQjKtocoeGsM"
      }
    },
    {
      "cell_type": "code",
      "source": [
        "# First, append BMI as a new column to np_person_info\n",
        "# We'll create a new array to keep the original intact\n",
        "np_person_info_with_bmi = np.column_stack((np_person_info, bmi_array))\n",
        "\n",
        "print(\"Combined Array with Height, Weight and BMI:\")\n",
        "print(\"Person info with BMI:\")\n",
        "print(np_person_info_with_bmi)\n",
        "\n",
        "# Filter individuals with BMI > 25\n",
        "overweight_filter = bmi_array > 25\n",
        "overweight_individuals = np_person_info_with_bmi[overweight_filter]\n",
        "\n",
        "print(\"\\nIndividuals with BMI > 25:\")\n",
        "print(overweight_individuals)"
      ],
      "metadata": {
        "colab": {
          "base_uri": "https://localhost:8080/"
        },
        "id": "ZknXOGwUeGWe",
        "outputId": "e65b0f64-4429-4e43-ee85-81736bed80cf"
      },
      "execution_count": 20,
      "outputs": [
        {
          "output_type": "stream",
          "name": "stdout",
          "text": [
            "Combined Array with Height, Weight and BMI:\n",
            "Person info with BMI:\n",
            "[[  1.75       158.4         23.51020408]\n",
            " [  1.8        187.          26.2345679 ]\n",
            " [  1.65       149.6         24.97704316]\n",
            " [  1.9        200.2         25.20775623]\n",
            " [  1.78       171.6         24.61810377]\n",
            " [  1.83       180.4         24.48565201]\n",
            " [  1.62       143.          24.76756592]\n",
            " [  1.88       193.6         24.89814396]\n",
            " [  1.77       167.2         24.25867407]\n",
            " [  1.95       206.8         24.72057857]]\n",
            "\n",
            "Individuals with BMI > 25:\n",
            "[[  1.8        187.          26.2345679 ]\n",
            " [  1.9        200.2         25.20775623]]\n"
          ]
        }
      ]
    },
    {
      "cell_type": "code",
      "source": [
        "# Task 5: Filter Individuals by BMI\n",
        "\n",
        "# First, append the calculated 'bmi_array' as a new column to the 'np_person_info' array.\n",
        "# We use np.column_stack() again to join the original 2D array with the 1D BMI array.\n",
        "# The new array will have three columns: Height (m), Weight (lbs), and BMI.\n",
        "np_person_info_with_bmi = np.column_stack((np_person_info, bmi_array))\n",
        "\n",
        "print(\"Combined Array with Height, Weight, and BMI:\")\n",
        "print(np_person_info_with_bmi)\n",
        "print(\"\\n\" + \"=\"*50 + \"\\n\") # Separator for clarity\n",
        "\n",
        "# Create a boolean condition to filter for individuals with a BMI greater than 25.\n",
        "# This expression 'np_person_info_with_bmi[:, 2] > 25' creates a boolean array (e.g., [False, True, True, ...])\n",
        "# where 'True' corresponds to rows where the BMI (in the 3rd column, index 2) is over 25.\n",
        "bmi_filter_condition = np_person_info_with_bmi[:, 2] > 25\n",
        "\n",
        "# Use the boolean array to index the main array. This is called boolean or \"mask\" indexing.\n",
        "# It returns a new array containing only the rows where the filter condition was True.\n",
        "filtered_individuals = np_person_info_with_bmi[bmi_filter_condition]\n",
        "\n",
        "# Print the final filtered results.\n",
        "# This table shows only the data for individuals with a BMI > 25.\n",
        "print(\"Filtered Individuals (BMI > 25):\")\n",
        "print(\"Columns: Height (m), Weight (lbs), BMI\")\n",
        "print(filtered_individuals)"
      ],
      "metadata": {
        "colab": {
          "base_uri": "https://localhost:8080/"
        },
        "id": "ntRePluto8ld",
        "outputId": "38d9ee1f-e8ba-429e-f777-d247c20dfcbe"
      },
      "execution_count": 19,
      "outputs": [
        {
          "output_type": "stream",
          "name": "stdout",
          "text": [
            "Combined Array with Height, Weight, and BMI:\n",
            "[[  1.75       158.4         23.51020408]\n",
            " [  1.8        187.          26.2345679 ]\n",
            " [  1.65       149.6         24.97704316]\n",
            " [  1.9        200.2         25.20775623]\n",
            " [  1.78       171.6         24.61810377]\n",
            " [  1.83       180.4         24.48565201]\n",
            " [  1.62       143.          24.76756592]\n",
            " [  1.88       193.6         24.89814396]\n",
            " [  1.77       167.2         24.25867407]\n",
            " [  1.95       206.8         24.72057857]]\n",
            "\n",
            "==================================================\n",
            "\n",
            "Filtered Individuals (BMI > 25):\n",
            "Columns: Height (m), Weight (lbs), BMI\n",
            "[[  1.8        187.          26.2345679 ]\n",
            " [  1.9        200.2         25.20775623]]\n"
          ]
        }
      ]
    }
  ]
}