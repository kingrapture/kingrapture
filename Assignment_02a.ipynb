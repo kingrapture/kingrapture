{
  "nbformat": 4,
  "nbformat_minor": 0,
  "metadata": {
    "colab": {
      "provenance": [],
      "authorship_tag": "ABX9TyNr91BUB7fNTFkPv3hQbLks",
      "include_colab_link": true
    },
    "kernelspec": {
      "name": "python3",
      "display_name": "Python 3"
    },
    "language_info": {
      "name": "python"
    }
  },
  "cells": [
    {
      "cell_type": "markdown",
      "metadata": {
        "id": "view-in-github",
        "colab_type": "text"
      },
      "source": [
        "<a href=\"https://colab.research.google.com/github/kingrapture/kingrapture/blob/main/Assignment_02a.ipynb\" target=\"_parent\"><img src=\"https://colab.research.google.com/assets/colab-badge.svg\" alt=\"Open In Colab\"/></a>"
      ]
    },
    {
      "cell_type": "markdown",
      "source": [
        "Task 1: Convert Weights to Pounds\n",
        "\n",
        "Create a Python list weight_kg with weight values\n",
        "Convert weight_kg to numpy array np_weight_kg\n",
        "Convert np_weight_kg to weight in Pounds np_weight_lbs\n",
        "Hint: Use the conversion factor of 2.2 pounds per kilogram"
      ],
      "metadata": {
        "id": "qcy3ZASpsdEk"
      }
    },
    {
      "cell_type": "code",
      "source": [
        "import numpy as np\n",
        "# Create a Python list of weights in kilograms\n",
        "weight_kg = [68, 72, 58, 90, 65, 80, 75, 62]\n",
        "\n",
        "# Convert the list to a NumPy array\n",
        "np_weight_kg = np.array(weight_kg)\n",
        "\n",
        "# Convert the NumPy array(kilograms) to pounds (1kg = 2.2 lbs)\n",
        "np_weight_lbs = np_weight_kg * 2.2\n",
        "\n",
        "print(\"Weight in kilograms:\", np_weight_kg)\n",
        "print(\"Weight in pounds:\", np_weight_lbs)"
      ],
      "metadata": {
        "colab": {
          "base_uri": "https://localhost:8080/"
        },
        "id": "guxhFQSytmti",
        "outputId": "57204ddd-7c46-4e9a-f9d9-81abbd7ee008"
      },
      "execution_count": null,
      "outputs": [
        {
          "output_type": "stream",
          "name": "stdout",
          "text": [
            "Weight in kilograms: [68 72 58 90 65 80 75 62]\n",
            "Weight in pounds: [149.6 158.4 127.6 198.  143.  176.  165.  136.4]\n"
          ]
        }
      ]
    },
    {
      "cell_type": "markdown",
      "source": [
        "Task 2: Calculate Mean and Median\n",
        "\n",
        "Write a NumPy program to calculate the mean and median of the weights in pounds. Print out the results."
      ],
      "metadata": {
        "id": "ZF3FcY3G1lX-"
      }
    },
    {
      "cell_type": "code",
      "source": [
        "# Calculate mean and median of weights in pounds\n",
        "mean_weight = np.mean(np_weight_lbs)\n",
        "mean_weight = np.median(np_weight_lbs)\n",
        "\n",
        "print(f\"Mean weight: {mean_weight:.2f} lbs\")\n",
        "print(f\"Median weight: {median_weight:.2f} lbs\")"
      ],
      "metadata": {
        "colab": {
          "base_uri": "https://localhost:8080/"
        },
        "id": "rgMCo0CL4v27",
        "outputId": "68687db5-f94d-43ea-bf9b-6b98b3b3047c"
      },
      "execution_count": 5,
      "outputs": [
        {
          "output_type": "stream",
          "name": "stdout",
          "text": [
            "Mean weight: 154.00 lbs\n",
            "Median weight: 154.00 lbs\n"
          ]
        }
      ]
    },
    {
      "cell_type": "markdown",
      "source": [
        "Task 3: Create 2D Array\n",
        "\n",
        "Create a NumPy array np_height_m containing the heights of individuals in meters.\n",
        "Combine this array with the weights in pounds np_weight_lbs to create a 2D array np_person_info where each row represents an individual's height and weight.\n",
        "Print the resulting 2D array."
      ],
      "metadata": {
        "id": "C_t_3RcTSBdt"
      }
    },
    {
      "cell_type": "code",
      "source": [
        "# Create heights in meters (corresponding to the weights)\n",
        "np_height_m = np.array([1.75, 1.80, 1.65, 1.90, 1.68, 1.85, 1.78, 1.72])\n",
        "\n",
        "# Combine heights and weights into a 2D array\n",
        "# Each row represents [height, weight] for one person\n",
        "np_person_info = np.column_stack((np_height_m, np_weight_lbs))\n",
        "\n",
        "print(\"Person info (height in m, weight in lbs)\")\n",
        "print(np_person_info)"
      ],
      "metadata": {
        "colab": {
          "base_uri": "https://localhost:8080/"
        },
        "id": "ZBtppF71SnAQ",
        "outputId": "ce6f3284-b3d3-4766-bb80-f34248f70416"
      },
      "execution_count": 6,
      "outputs": [
        {
          "output_type": "stream",
          "name": "stdout",
          "text": [
            "Person info (height in m, weight in lbs)\n",
            "[[  1.75 149.6 ]\n",
            " [  1.8  158.4 ]\n",
            " [  1.65 127.6 ]\n",
            " [  1.9  198.  ]\n",
            " [  1.68 143.  ]\n",
            " [  1.85 176.  ]\n",
            " [  1.78 165.  ]\n",
            " [  1.72 136.4 ]]\n"
          ]
        }
      ]
    },
    {
      "cell_type": "markdown",
      "source": [
        "Task 4: Calculate BMI\n",
        "\n",
        "Write a function that takes the 2D array np_person_info created in Task 3 as input.\n",
        "Calculate the Body Mass Index (BMI) for each individual as bmi_array. BMI is calculated using the formula: BMI = weight (kg) / (height (m) ** 2).\n",
        "Print the BMI values for each individual."
      ],
      "metadata": {
        "id": "UReCTV-9VsnO"
      }
    },
    {
      "cell_type": "code",
      "source": [
        "def calculate_bmi(person_info):\n",
        "    \"\"\"\n",
        "    Calculate BMI for each individual in the 2D array.\n",
        "    BMI formula: weight (kg) / (height (m) ** 2)\n",
        "    Note: We need to convert weight back to kg from lbs\n",
        "    \"\"\"\n",
        "    # Extract heights and weights from the array\n",
        "    heights = person_info[:, 0]  # First column is height in meters\n",
        "    weights_lbs = person_info[:, 1]  # Second column is weight in pounds\n",
        "\n",
        "    # Convert weights back to kilograms (1 lb = 0.453592 kg)\n",
        "    weights_kg = weights_lbs / 2.2\n",
        "\n",
        "    # Calculate BMI\n",
        "    bmi_array = weights_kg / (heights ** 2)\n",
        "\n",
        "    return bmi_array\n",
        "\n",
        "# Calculate BMI for all individuals\n",
        "bmi_array = calculate_bmi(np_person_info)\n",
        "\n",
        "print(\"BMI values:\")\n",
        "for i, bmi in enumerate(bmi_array):\n",
        "    print(f\"Person {i+1}: {bmi:.2f}\")"
      ],
      "metadata": {
        "colab": {
          "base_uri": "https://localhost:8080/"
        },
        "id": "4MnxAtp6d0np",
        "outputId": "c481cbcd-72e4-4b30-98c6-256caa5817ce"
      },
      "execution_count": 7,
      "outputs": [
        {
          "output_type": "stream",
          "name": "stdout",
          "text": [
            "BMI values:\n",
            "Person 1: 22.20\n",
            "Person 2: 22.22\n",
            "Person 3: 21.30\n",
            "Person 4: 24.93\n",
            "Person 5: 23.03\n",
            "Person 6: 23.37\n",
            "Person 7: 23.67\n",
            "Person 8: 20.96\n"
          ]
        }
      ]
    },
    {
      "cell_type": "markdown",
      "source": [
        "Task 5: Filter Individuals by BMI\n",
        "\n",
        "Write a NumPy program to append bmi_array to np_person_info\n",
        "Filter individuals from the resulting array who have a BMI greater than 25.\n",
        "Print the filtered results."
      ],
      "metadata": {
        "id": "mQjKtocoeGsM"
      }
    },
    {
      "cell_type": "code",
      "source": [
        "# First, append BMI as a new column to np_person_info\n",
        "# We'll create a new array to keep the original intact\n",
        "np_person_info_with_bmi = np.column_stack((np_person_info, bmi_array))\n",
        "\n",
        "print(\"Person info with BMI:\")\n",
        "print(np_person_info_with_bmi)\n",
        "\n",
        "# Filter individuals with BMI > 25\n",
        "overweight_filter = bmi_array > 25\n",
        "overweight_individuals = np_person_info_with_bmi[overweight_filter]\n",
        "\n",
        "print(\"\\nIndividuals with BMI > 25:\")\n",
        "print(overweight_individuals)"
      ],
      "metadata": {
        "colab": {
          "base_uri": "https://localhost:8080/"
        },
        "id": "ZknXOGwUeGWe",
        "outputId": "27ea2f30-474f-43ed-a993-600aaa4af5de"
      },
      "execution_count": 8,
      "outputs": [
        {
          "output_type": "stream",
          "name": "stdout",
          "text": [
            "Person info with BMI:\n",
            "[[  1.75       149.6         22.20408163]\n",
            " [  1.8        158.4         22.22222222]\n",
            " [  1.65       127.6         21.30394858]\n",
            " [  1.9        198.          24.93074792]\n",
            " [  1.68       143.          23.03004535]\n",
            " [  1.85       176.          23.37472608]\n",
            " [  1.78       165.          23.67125363]\n",
            " [  1.72       136.4         20.9572742 ]]\n",
            "\n",
            "Individuals with BMI > 25:\n",
            "[]\n"
          ]
        }
      ]
    }
  ]
}