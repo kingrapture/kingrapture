{
  "nbformat": 4,
  "nbformat_minor": 0,
  "metadata": {
    "colab": {
      "provenance": [],
      "include_colab_link": true
    },
    "kernelspec": {
      "name": "python3",
      "display_name": "Python 3"
    },
    "language_info": {
      "name": "python"
    }
  },
  "cells": [
    {
      "cell_type": "markdown",
      "metadata": {
        "id": "view-in-github",
        "colab_type": "text"
      },
      "source": [
        "<a href=\"https://colab.research.google.com/github/kingrapture/kingrapture/blob/main/calculator_assignment_1b.ipynb\" target=\"_parent\"><img src=\"https://colab.research.google.com/assets/colab-badge.svg\" alt=\"Open In Colab\"/></a>"
      ]
    },
    {
      "cell_type": "markdown",
      "source": [
        "Task 1: Double the Number\n",
        "\n",
        "Write a Python function named double_number that takes a number as input and returns the double of the number."
      ],
      "metadata": {
        "id": "h7WtvMtEgq9V"
      }
    },
    {
      "cell_type": "code",
      "source": [
        "def double_number(x):\n",
        "  return x * 2\n",
        "\n",
        "result = double_number(5)\n",
        "print(result)"
      ],
      "metadata": {
        "colab": {
          "base_uri": "https://localhost:8080/"
        },
        "id": "wmJa1J9Rg-Jb",
        "outputId": "3e912325-1c9e-4dc6-d592-9cc6f643d489"
      },
      "execution_count": null,
      "outputs": [
        {
          "output_type": "stream",
          "name": "stdout",
          "text": [
            "10\n"
          ]
        }
      ]
    },
    {
      "cell_type": "markdown",
      "source": [
        "Comments:\n",
        "def double_number(x) - This line defines a function named double_number and x in parentheses is a parameter (a placeholder for whatever number  key in). return x * 2 is tells the function to take the input number, multiply it by 2, and send that result back. result = double_number(5) - calling the function with the number 5 (5 gets passed into x, so the function calculates 5 * 2, which is 10), result (10) is then stored in the variable result and print the result"
      ],
      "metadata": {
        "id": "UJ1Ppflk4nt5"
      }
    },
    {
      "cell_type": "markdown",
      "source": [
        "Task 2: Count Characters\n",
        "\n",
        "Create a Python function named count_characters that takes a string as input and returns the number of characters in the string.\n",
        "\n",
        "(Hint: len() built-in function will return length of characters)"
      ],
      "metadata": {
        "id": "EBdQKr92BcF9"
      }
    },
    {
      "cell_type": "code",
      "source": [
        "def count_characters(string):\n",
        "  return len(string)\n",
        "\n",
        "result = count_characters(\"hello world\")\n",
        "print(result)"
      ],
      "metadata": {
        "colab": {
          "base_uri": "https://localhost:8080/"
        },
        "id": "FdEXLZXZB11r",
        "outputId": "a586ca00-cf96-490a-dca0-0e99a5bd38d9"
      },
      "execution_count": null,
      "outputs": [
        {
          "output_type": "stream",
          "name": "stdout",
          "text": [
            "11\n"
          ]
        }
      ]
    },
    {
      "cell_type": "markdown",
      "source": [
        "Comments:\n",
        "Defined a function called count_characters - takes one parameter called string. return len(string) - returns the length of that string using the built-in len() function.\n",
        "result = count_characters(\"hello world\") - calling the function and passing in the string \"hello world\" that contains 11 characters (including the space) and returned value 11 is stored in result"
      ],
      "metadata": {
        "id": "Tn-y4E4iV8tH"
      }
    },
    {
      "cell_type": "markdown",
      "source": [
        "Task 3: Check for Evenness\n",
        "\n",
        "Define a Python function called is_even that takes a number as input and returns True if the number is even, or False otherwise."
      ],
      "metadata": {
        "id": "gI0S93nxeLI_"
      }
    },
    {
      "cell_type": "code",
      "source": [
        "def is_even(number):\n",
        "  return number % 2 == 0\n",
        "\n",
        "print(is_even(4))\n",
        "print(is_even(7))"
      ],
      "metadata": {
        "colab": {
          "base_uri": "https://localhost:8080/"
        },
        "id": "gYgKBMhBe7HI",
        "outputId": "7de805b0-5526-4918-ab19-aded7fc11fa0"
      },
      "execution_count": null,
      "outputs": [
        {
          "output_type": "stream",
          "name": "stdout",
          "text": [
            "True\n",
            "False\n"
          ]
        }
      ]
    },
    {
      "cell_type": "markdown",
      "source": [
        "Comments: Defines a function called is_even. Inside the function, you’re using the modulo operator % to check if the number has a remainder when divided by 2.\n",
        "If number % 2 == 0, it’s even → return True\n",
        "Otherwise → return False"
      ],
      "metadata": {
        "id": "BX96yUxz_c5e"
      }
    },
    {
      "cell_type": "markdown",
      "source": [
        "Task 4: Find the Smaller Number\n",
        "\n",
        "Implement a Python function named find_smaller_number that takes two numbers as input and returns the smaller number.\n",
        "\n",
        "(Hint: Remember that you should not use the min() function. Instead, you can utilize if-else statements to compare the two numbers and determine the smaller one.)"
      ],
      "metadata": {
        "id": "8BsJcCpqCLhf"
      }
    },
    {
      "cell_type": "code",
      "source": [
        "def find_smaller_number(num1, num2):\n",
        "  if num1 < num2:\n",
        "    return num1\n",
        "  else:\n",
        "    return num2\n",
        "\n",
        "result = find_smaller_number(5, 10)\n",
        "print(result)\n",
        "#"
      ],
      "metadata": {
        "colab": {
          "base_uri": "https://localhost:8080/"
        },
        "id": "2mOCi1-DDA4I",
        "outputId": "a8370594-0e14-4205-9b66-5370d2e486b2"
      },
      "execution_count": null,
      "outputs": [
        {
          "output_type": "stream",
          "name": "stdout",
          "text": [
            "5\n"
          ]
        }
      ]
    },
    {
      "cell_type": "markdown",
      "source": [
        "Comments:\n",
        "Define a function to find_smaller_number(num1, num2) and takes two arguments: num1 and num2. if num1 < num2 : Checks if num1 is less than num2 and If yes, then num1 is the smaller number.\n",
        "return num1: If the condition was true (num1 is smaller), this line returns num1 back to wherever the function was called; if not, else: return num2\n",
        "result = find_smaller_number(5, 10) - This calls the function with values 5 and 10 and It checks: is 5 < 10? → Yes → returns 5\n",
        "That value (5) is now stored in the variable result."
      ],
      "metadata": {
        "id": "C8O-c1MnDi5w"
      }
    },
    {
      "cell_type": "markdown",
      "source": [
        "Task 5: Calculate Sum of a List\n",
        "\n",
        "Develop a Python function called calculate_sum that takes a list of numbers as input and returns the sum of the numbers.\n",
        "\n",
        "(Hint: The function should take list data type as argument, not multiple integers)"
      ],
      "metadata": {
        "id": "efB1e38dEjvG"
      }
    },
    {
      "cell_type": "code",
      "source": [
        "def calculate_sum(numbers):\n",
        "  total = 0\n",
        "  for number in numbers:\n",
        "    total += number\n",
        "  return total\n",
        "\n",
        "result = calculate_sum([1, 2, 3, 4, 5])\n",
        "print(result)"
      ],
      "metadata": {
        "colab": {
          "base_uri": "https://localhost:8080/"
        },
        "id": "HaivpfaoFXwX",
        "outputId": "84757785-1b69-4c0e-c325-71bdbfd312e7"
      },
      "execution_count": null,
      "outputs": [
        {
          "output_type": "stream",
          "name": "stdout",
          "text": [
            "15\n"
          ]
        }
      ]
    },
    {
      "cell_type": "markdown",
      "source": [
        "Comments:\n",
        "Define calculate_sum(numbers) as function and it takes one input, which you're calling numbers.That input should be a list—something like [1, 2, 3] and total = 0 is creating a variable from scratch; while for number in numbers is a loop. total += number is total = total + number for adding the current number to the total, each time the loop runs; for return total - the loop ends.\n",
        "result = calculate_sum([1, 2, 3, 4, 5]) - calling the function and passing it a list of numbers and the function runs through all the steps and returns 15 and stored in the variable result."
      ],
      "metadata": {
        "id": "DBF56YvoHhiq"
      }
    },
    {
      "cell_type": "markdown",
      "source": [
        "Task 6: Extract Prime Numbers\n",
        "\n",
        "Write a Python function named prime_numbers_in_list that takes a list of numbers as input and returns a new list containing only the prime numbers from the original list.\n",
        "\n",
        "(Hint: A prime number is a positive integer with exactly two divisors: 1 and itself)"
      ],
      "metadata": {
        "id": "vEpjUcFHM3bj"
      }
    },
    {
      "cell_type": "code",
      "source": [
        "def is_prime(n):\n",
        "    if n <= 1:\n",
        "        return False\n",
        "    for i in range(2, int(n**0.5)+1):\n",
        "        if n % i == 0:\n",
        "            return False\n",
        "    return True\n",
        "\n",
        "def prime_numbers_in_list(numbers):\n",
        "    prime_numbers = []\n",
        "    for number in numbers:\n",
        "        if is_prime(number):\n",
        "            prime_numbers.append(number)\n",
        "    return prime_numbers\n",
        "\n",
        "print(prime_numbers_in_list([1, 2, 3, 4, 5, 6, 7, 8, 9, 10]))\n"
      ],
      "metadata": {
        "colab": {
          "base_uri": "https://localhost:8080/"
        },
        "id": "XDVDEZCpNb9o",
        "outputId": "89859395-3202-40fe-9e90-16391f230f8d"
      },
      "execution_count": null,
      "outputs": [
        {
          "output_type": "stream",
          "name": "stdout",
          "text": [
            "[2, 3, 5, 7]\n"
          ]
        }
      ]
    },
    {
      "cell_type": "markdown",
      "source": [
        "Comments:\n",
        "is_prime(n) – checks if a number is prime and prime_numbers_in_list(numbers) – loops through a list and keeps only the prime numbers.\n",
        "is_prime() Rejects numbers ≤ 1 and Checks for divisibility from 2 to √n and if a number divides evenly - not prime; else prime.\n",
        "prime_numbers_in_list(): Takes a list. Uses is_prime() to check each number and adds primes to a new list. Returns that list"
      ],
      "metadata": {
        "id": "bFyp5HBWPu41"
      }
    },
    {
      "cell_type": "markdown",
      "source": [
        "Task 7: Factorial Calculation\n",
        "\n",
        "Create a Python function named calculate_factorial that takes a number as input and returns the factorial of that number.\n",
        "\n",
        "(Hint: The factorial of a number is the product of all positive integers less than or equal to that number.)"
      ],
      "metadata": {
        "id": "46EE20vOQsWx"
      }
    },
    {
      "cell_type": "code",
      "source": [
        "def calculate_factorial(n):\n",
        "    if n < 0:\n",
        "        return \"Factorial not defined for negative numbers\"\n",
        "    result = 1\n",
        "    for i in range(1, n + 1):\n",
        "        result *= i\n",
        "    return result\n",
        "print(calculate_factorial(5))"
      ],
      "metadata": {
        "colab": {
          "base_uri": "https://localhost:8080/"
        },
        "id": "NzbUHVYmTbDm",
        "outputId": "4676606a-895d-4687-c5dd-83df47da7a55"
      },
      "execution_count": null,
      "outputs": [
        {
          "output_type": "stream",
          "name": "stdout",
          "text": [
            "120\n"
          ]
        }
      ]
    },
    {
      "cell_type": "markdown",
      "source": [
        "Comments\n",
        "Use def to define the function to check for negative numbers.\n",
        "Loop from 1 to n, multiplying as you go and return the result. It is not about jam input() into your function definition"
      ],
      "metadata": {
        "id": "8iQj9HnsTnnH"
      }
    }
  ]
}