{
  "cells": [
    {
      "cell_type": "markdown",
      "metadata": {
        "id": "view-in-github",
        "colab_type": "text"
      },
      "source": [
        "<a href=\"https://colab.research.google.com/github/kingrapture/kingrapture/blob/main/Dorothy_Goh_Assignment_01a.ipynb\" target=\"_parent\"><img src=\"https://colab.research.google.com/assets/colab-badge.svg\" alt=\"Open In Colab\"/></a>"
      ]
    },
    {
      "cell_type": "markdown",
      "source": [
        "Task 1: Variable Manipulation\n",
        "\n",
        "Create two variables named num1 and num2 and assign them integer values of your choice.\n",
        "Calculate the sum of num1 and num2 and store the result in a variable called sum_result.\n",
        "Print the value of sum_result."
      ],
      "metadata": {
        "id": "GcxTpnLjdZE5"
      }
    },
    {
      "cell_type": "code",
      "source": [
        "num1 = 3\n",
        "num2 = 5\n",
        "sum_result = num1 + num2\n",
        "print(sum_result)"
      ],
      "metadata": {
        "colab": {
          "base_uri": "https://localhost:8080/"
        },
        "id": "9YV9IfeAQOrl",
        "outputId": "305c9a04-c343-4d79-c37a-c888a44a6183"
      },
      "execution_count": null,
      "outputs": [
        {
          "output_type": "stream",
          "name": "stdout",
          "text": [
            "8\n"
          ]
        }
      ]
    },
    {
      "cell_type": "markdown",
      "source": [
        "Task 2: Operator Exploration\n",
        "\n",
        "Create a variable named division and assign it the division result of num1 and num2.\n",
        "Create another variable named remainder and assign it the remainder when num2 is divided by num1.\n",
        "Print the values of division and remainder in a single line with appropriate messages."
      ],
      "metadata": {
        "id": "YQT4hjVIU5m6"
      }
    },
    {
      "cell_type": "code",
      "source": [
        "num1 = 3\n",
        "num2 = 5\n",
        "division = num1 / num2\n",
        "remainder = num2 % num1\n",
        "print(\"Division:\", division)\n",
        "print(\"Remainder:\", remainder)"
      ],
      "metadata": {
        "colab": {
          "base_uri": "https://localhost:8080/"
        },
        "id": "seGO88azlxii",
        "outputId": "3cdef731-5a68-434f-f1f4-2511ea4748ef"
      },
      "execution_count": null,
      "outputs": [
        {
          "output_type": "stream",
          "name": "stdout",
          "text": [
            "Division: 0.6\n",
            "Remainder: 2\n"
          ]
        }
      ]
    },
    {
      "cell_type": "markdown",
      "source": [
        "Task 3: User Interaction\n",
        "\n",
        "Prompt the user to enter their name.\n",
        "Store the user's input in a variable called user_name.\n",
        "Print a welcome message to the user using their name."
      ],
      "metadata": {
        "id": "p8gCW4Ba3QLt"
      }
    },
    {
      "cell_type": "code",
      "source": [
        "user_name = input(\"Enter your name: \")\n",
        "print(\"Welcome,\", user_name)"
      ],
      "metadata": {
        "colab": {
          "base_uri": "https://localhost:8080/"
        },
        "id": "Y8678cnbFGpw",
        "outputId": "cbaeec0b-64ba-414b-cc5e-20f6193644ad"
      },
      "execution_count": null,
      "outputs": [
        {
          "output_type": "stream",
          "name": "stdout",
          "text": [
            "Enter your name: Willy\n",
            "Welcome, Willy\n"
          ]
        }
      ]
    },
    {
      "cell_type": "markdown",
      "source": [
        "Task 4: String Concatenation\n",
        "\n",
        "Create a variable called greeting and assign it the string \"Hello\".\n",
        "Create another variable called message and assign it the string \"Python Learner\".\n",
        "Concatenate greeting and message together and store the result in a variable called full_message.\n",
        "Print full_message."
      ],
      "metadata": {
        "id": "ck5k6UdHauCZ"
      }
    },
    {
      "cell_type": "code",
      "source": [
        "greeting = \"Hello\"\n",
        "message = \"Python Learner\"\n",
        "full_message = greeting + \" \" + message\n",
        "print(full_message)\n",
        "#"
      ],
      "metadata": {
        "colab": {
          "base_uri": "https://localhost:8080/"
        },
        "id": "Rwcup6VOa3aU",
        "outputId": "3b8a7068-af59-469a-c3d9-ac576ef9e45a"
      },
      "execution_count": null,
      "outputs": [
        {
          "output_type": "stream",
          "name": "stdout",
          "text": [
            "Hello Python Learner\n"
          ]
        }
      ]
    },
    {
      "cell_type": "markdown",
      "source": [
        "Task 5: Input and Type Conversion\n",
        "\n",
        "Prompt the user to enter a number.\n",
        "Store the user's input in a variable called user_input.\n",
        "Print the data type of user_input.\n",
        "Convert user_input to a integer and store it in a variable called user_integer.\n",
        "Print the data type of user_integer."
      ],
      "metadata": {
        "id": "V-4rERZPjRQl"
      }
    },
    {
      "cell_type": "code",
      "source": [
        "user_input = input(\"Enter a number: \")\n",
        "print(type(user_input))\n",
        "user_integer = int(user_input)\n",
        "print(type(user_integer))"
      ],
      "metadata": {
        "colab": {
          "base_uri": "https://localhost:8080/"
        },
        "id": "HElreFuPjye-",
        "outputId": "bcd7d096-ce03-4c5a-dbfe-ce53f6833259"
      },
      "execution_count": null,
      "outputs": [
        {
          "output_type": "stream",
          "name": "stdout",
          "text": [
            "Enter a number: 18\n",
            "<class 'str'>\n",
            "<class 'int'>\n"
          ]
        }
      ]
    },
    {
      "cell_type": "markdown",
      "source": [
        "Task 6: Exponential Calculation\n",
        "\n",
        "Calculate the square of num1 and store the result in a variable called square_result.\n",
        "Calculate the cube of num2 and store the result in a variable called cube_result.\n",
        "Print both square_result and cube_result with appropriate messages."
      ],
      "metadata": {
        "id": "hgZo0TpXHYJQ"
      }
    },
    {
      "cell_type": "code",
      "source": [
        "num1 = 3\n",
        "num2 = 5\n",
        "square_result = num1 ** 2\n",
        "cube_result = num2 ** 3\n",
        "print(\"Square of num1:\", square_result)\n",
        "print(\"Cube of num2:\", cube_result)\n",
        "#"
      ],
      "metadata": {
        "colab": {
          "base_uri": "https://localhost:8080/"
        },
        "id": "koZT6ASBLF1o",
        "outputId": "a8483344-380a-4a91-b339-f7a8bd45068e"
      },
      "execution_count": null,
      "outputs": [
        {
          "output_type": "stream",
          "name": "stdout",
          "text": [
            "Square of num1: 9\n",
            "Cube of num2: 125\n"
          ]
        }
      ]
    },
    {
      "cell_type": "code",
      "source": [
        "num1 = 3\n",
        "num2 = 5\n",
        "square_result = num1 ** 2\n",
        "exponent = int(input(\"Enter the exponent: \"))\n",
        "cube_result = num2 ** exponent\n",
        "print(f\"Square of {num1} is {square_result}\")\n",
        "print(f\"Cube of {num2} is {cube}\")"
      ],
      "metadata": {
        "colab": {
          "base_uri": "https://localhost:8080/"
        },
        "id": "j6df_OlCfrwa",
        "outputId": "d8c6a00c-5f0d-4726-d5a2-eac7d32c418f"
      },
      "execution_count": null,
      "outputs": [
        {
          "output_type": "stream",
          "name": "stdout",
          "text": [
            "Enter the exponent: 9\n",
            "Square of 3 is 9\n",
            "Cube of 5 is 1953125\n"
          ]
        }
      ]
    },
    {
      "cell_type": "markdown",
      "source": [
        "Task 7: Prompt the user to enter a temperature in Celsius.\n",
        "Convert the Celsius temperature to Fahrenheit using the formula: Fahrenheit = (Celsius * 9/5) + 32.\n",
        "Store the result in a variable called temperature_f.\n",
        "Print the value of temperature_f."
      ],
      "metadata": {
        "id": "WN5UqQfw6ZF6"
      }
    },
    {
      "cell_type": "code",
      "source": [
        "celsius = float(input(\"Enter temperature in Celsius: \"))\n",
        "temperature_f = (celsius * 9/5) + 32\n",
        "print(f\"Temperature in Fahrenheit: {temperature_f}\")"
      ],
      "metadata": {
        "colab": {
          "base_uri": "https://localhost:8080/"
        },
        "id": "snTKl3jR6dPP",
        "outputId": "e5a2eeb4-cd50-42e8-e6b7-23399c9c9661"
      },
      "execution_count": null,
      "outputs": [
        {
          "output_type": "stream",
          "name": "stdout",
          "text": [
            "Enter temperature in Celsius: 30\n",
            "Temperature in Fahrenheit: 86.0\n"
          ]
        }
      ]
    }
  ],
  "metadata": {
    "colab": {
      "toc_visible": true,
      "provenance": [],
      "include_colab_link": true
    },
    "kernelspec": {
      "display_name": "Python 3",
      "name": "python3"
    }
  },
  "nbformat": 4,
  "nbformat_minor": 0
}